{
 "cells": [
  {
   "cell_type": "code",
   "execution_count": 1,
   "id": "eb602a32-22c3-4f23-b818-13b5bf043af8",
   "metadata": {},
   "outputs": [],
   "source": [
    "# Intial imports\n",
    "import os\n",
    "import requests\n",
    "import pandas as pd\n",
    "from dotenv import load_dotenv\n",
    "import alpaca_trade_api as tradeapi\n",
    "from MCForecastTools import MCSimulation\n",
    "import json\n",
    "%matplotlib inline"
   ]
  },
  {
   "cell_type": "code",
   "execution_count": 2,
   "id": "848787f6-2b2f-4af2-8494-66599b54c2bd",
   "metadata": {},
   "outputs": [],
   "source": [
    "# Create input variables\n",
    "    # Investment type (stocks, bonds, sb_blend, sbc_blend)\n",
    "investment_type =\n",
    "    # Starting value of investments\n",
    "starting_value =\n",
    "    # Annual pre-tax withdrawl\n",
    "pre_tax_withdrawl =\n",
    "    # Minimum years of retirement\n",
    "minimum_years =\n",
    "    # Average years of retirement\n",
    "average_years =\n",
    "    # Maximum years of retirement\n",
    "maximum_years =\n",
    "    # Number of simulations to run\n",
    "simulations_run ="
   ]
  },
  {
   "cell_type": "code",
   "execution_count": null,
   "id": "b89d7ee0-015d-4216-8629-b1fbfba64889",
   "metadata": {},
   "outputs": [],
   "source": [
    "# Pull data from API\n",
    "    # Set Alpaca API key and secret\n",
    "alpaca_api_key = os.getenv(\"ALPACA_API_KEY\")\n",
    "alpaca_secret_key = os.getenv(\"ALPACA_SECERET_KEY\")\n",
    "\n",
    "    # Create the Alpaca API object\n",
    "alpaca = tradeapi.REST(\n",
    "    alpaca_api_key,\n",
    "    alpaca_secret_key,\n",
    "    api_version=\"v2\")\n",
    "\n",
    "# Format current date as ISO format\n",
    "today = pd.Timestamp(\"2020-07-17\", tz=\"America/New_York\").isoformat()\n",
    "\n",
    "# Set the tickers\n",
    "tickers = [\"AGG\", \"SPY\"]\n",
    "\n",
    "# Set timeframe to \"1Day\" for Alpaca API\n",
    "timeframe = \"1Day\"\n",
    "\n",
    "# Get current closing prices for SPY and AGG\n",
    "df_portfolio = alpaca.get_bars(\n",
    "    tickers,\n",
    "    timeframe,\n",
    "    start = today,\n",
    "    end = today\n",
    ").df"
   ]
  },
  {
   "cell_type": "code",
   "execution_count": null,
   "id": "4fc0c4c4-2d95-4d9a-8c91-fce13c82b95d",
   "metadata": {},
   "outputs": [],
   "source": [
    "# Organize data from API\n"
   ]
  },
  {
   "cell_type": "code",
   "execution_count": 3,
   "id": "49528bb7-b0a0-42ca-862c-a895c758be60",
   "metadata": {},
   "outputs": [],
   "source": [
    "# Run MC Simulation\n",
    "num_sims = 500\n",
    "num_yrs = 30\n",
    "weights = [0.4,0.6]\n",
    "MC_returns = MCSimulation(\n",
    "                portfolio_data = five_year_df,\n",
    "                weights = weights,\n",
    "                num_simulation = num_sims,\n",
    "                num_trading_days = 252*num_yrs)\n",
    "    \n",
    "    # Change MC Simulation variables"
   ]
  },
  {
   "cell_type": "code",
   "execution_count": null,
   "id": "17ba60e6-edc7-4ddd-a8ee-9bf0f11c084d",
   "metadata": {},
   "outputs": [],
   "source": [
    "# View results\n",
    "    \n",
    "    # HvPlot, PiViz, Heatmap(must import seaborn)"
   ]
  },
  {
   "cell_type": "code",
   "execution_count": null,
   "id": "592cb6c2-098a-4462-ab87-d5b416df552e",
   "metadata": {},
   "outputs": [],
   "source": [
    "# Summarize results"
   ]
  }
 ],
 "metadata": {
  "kernelspec": {
   "display_name": "Python 3 (ipykernel)",
   "language": "python",
   "name": "python3"
  },
  "language_info": {
   "codemirror_mode": {
    "name": "ipython",
    "version": 3
   },
   "file_extension": ".py",
   "mimetype": "text/x-python",
   "name": "python",
   "nbconvert_exporter": "python",
   "pygments_lexer": "ipython3",
   "version": "3.9.12"
  }
 },
 "nbformat": 4,
 "nbformat_minor": 5
}
