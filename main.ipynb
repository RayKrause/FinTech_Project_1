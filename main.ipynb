{
 "cells": [
  {
   "cell_type": "code",
   "execution_count": 1,
   "id": "c15fe3d2-3821-4a77-b3a2-b086f74f3fd5",
   "metadata": {},
   "outputs": [],
   "source": [
    "# Retirement calculator using Monte Carlo simulation.\n",
    "# Load imports\n",
    "import sys\n",
    "import colorama \n",
    "from colorama import Fore\n",
    "import random\n",
    "import plotly.express as px\n",
    "import pandas as pd\n",
    "from pathlib import Path\n",
    "import matplotlib.pyplot as plt"
   ]
  },
  {
   "cell_type": "code",
   "execution_count": 2,
   "id": "9ee82643-2e53-4929-8055-29b94b497cfb",
   "metadata": {},
   "outputs": [],
   "source": [
    "# Open a data file in percent format and convert to decimal & return a list.\n",
    "def read_list(file_name):\n",
    "    with open(file_name) as file:\n",
    "        line_var = [float(line.strip()) for line in file]\n",
    "        decimal_var = [round(line / 100, 4) for line in line_var]\n",
    "        return decimal_var"
   ]
  },
  {
   "cell_type": "code",
   "execution_count": 3,
   "id": "561f86d5-73b3-4ceb-9e0c-8108898b722a",
   "metadata": {},
   "outputs": [],
   "source": [
    "# Setup default values in input string\n",
    "def def_input(prompt, default=None):\n",
    "    prompt = '{} [{}]: '.format(prompt, default)\n",
    "    response = input(prompt)\n",
    "    if not response and default:\n",
    "        return default\n",
    "    else:\n",
    "        return response"
   ]
  },
  {
   "cell_type": "code",
   "execution_count": 4,
   "id": "c0d9d44d-af8b-4066-86b7-a1148017223a",
   "metadata": {},
   "outputs": [],
   "source": [
    "# These txt files are solely for testing purposes we will need to read\n",
    "# from a CSV file using pd for the final product\n",
    "# load data files with original data in percent form\n",
    "try:\n",
    "    bonds = read_list('./Resources/10yr_TBond_1928-2021_pct.txt')\n",
    "    stocks = read_list('./Resources/SP500_returns_1928-2021_pct.txt')\n",
    "    blend_40_50_10 = read_list('./Resources/SBC_blend_1928-2021_pct.txt')\n",
    "    blend_50_50 = read_list('./Resources/SB_blend_1928-2021_pct.txt')\n",
    "    ratio_60_40 = read_list('./Resources/60_40_ratio_1928-2021.txt')\n",
    "    infl_rate = read_list('./Resources/annual_infl_rate_1928-2021_pct.txt')\n",
    "except IOError as e:\n",
    "    print(\"{}. \\nTerminating program.\".format(e), file=sys.stderr)\n",
    "    sys.exit(1)"
   ]
  },
  {
   "cell_type": "code",
   "execution_count": 5,
   "id": "05f0f5eb-f809-4944-87f5-d2f91183db66",
   "metadata": {},
   "outputs": [],
   "source": [
    "# get user input with dictionary for investment types\n",
    "investment_type = {'bonds': bonds, 'stocks': stocks, '60/40': ratio_60_40,\n",
    "                        'sb': blend_50_50, 'sbc': blend_40_50_10}"
   ]
  },
  {
   "cell_type": "code",
   "execution_count": 6,
   "id": "aefdfbf2-dc77-4106-acf3-7eb126d17f70",
   "metadata": {},
   "outputs": [
    {
     "name": "stdout",
     "output_type": "stream",
     "text": [
      "\n",
      " \n",
      "\n",
      "\u001b[31m   ~~~~~~~~~~~~~~~~~~~~~~~~~~~~~~~~~~~~~~~~~~~~~~~~~~~~~~~~~~~~~~~~~\n",
      "\u001b[37m  ~~~~~~~~~~~~~~~~~~~~~~~~~~~~~~~~~~~~~~~~~~~~~~~~~~~~~~~~~~~~~~~~~~~\n",
      "\u001b[34m ~~   $                                                         $   ~~\n",
      "\u001b[34m~~   $ $       R E T I R E M E N T     S I M U L A T O R       $ $   ~~\n",
      "\u001b[34m ~~   $                                                         $   ~~\n",
      "\u001b[37m  ~~~~~~~~~~~~~~~~~~~~~~~~~~~~~~~~~~~~~~~~~~~~~~~~~~~~~~~~~~~~~~~~~~~\n",
      "\u001b[31m   ~~~~~~~~~~~~~~~~~~~~~~~~~~~~~~~~~~~~~~~~~~~~~~~~~~~~~~~~~~~~~~~~~\n",
      "\n",
      "\u001b[37m   How long will your retirement nest egg last?\n",
      "   How much could your investments grow?\n",
      "   Answer a few questions to see a long-term projection.\n",
      "   Then try making a few changes to view the impact on your results.\n",
      "\n",
      "\n",
      "      How are your savings allocated?\n",
      "\n",
      "      Stocks = S&P 500\n",
      "      Bonds = 10 year Treasury Bond\n",
      "      60/40 = 60% S&P 500 / 40% Treasury Bond\n",
      "      SB Blend = 50% S&P 500 / 50% Treasury Bond\n",
      "      SBC Blend = 40% S&P 500 / 50% Treasury Bond / 10% Cash\n",
      "\u001b[32m      Crypto =  F U T U R E   F U N C T I O N A L I T Y\n",
      "\u001b[32m      Custom =  F U T U R E   F U N C T I O N A L I T Y\n",
      "\n",
      "\u001b[37m      Press ENTER to accept default value shown in [brackets]. \n",
      "\n"
     ]
    }
   ],
   "source": [
    "# print header logo\n",
    "print(\"\\n \\n\")\n",
    "print(Fore.RED +\"   ~~~~~~~~~~~~~~~~~~~~~~~~~~~~~~~~~~~~~~~~~~~~~~~~~~~~~~~~~~~~~~~~~\")\n",
    "print(Fore.WHITE +\"  ~~~~~~~~~~~~~~~~~~~~~~~~~~~~~~~~~~~~~~~~~~~~~~~~~~~~~~~~~~~~~~~~~~~\")\n",
    "print(Fore.BLUE +\" ~~   $                                                         $   ~~\")\n",
    "print(Fore.BLUE +\"~~   $ $       R E T I R E M E N T     S I M U L A T O R       $ $   ~~\")\n",
    "print(Fore.BLUE +\" ~~   $                                                         $   ~~\")\n",
    "print(Fore.WHITE +\"  ~~~~~~~~~~~~~~~~~~~~~~~~~~~~~~~~~~~~~~~~~~~~~~~~~~~~~~~~~~~~~~~~~~~\")\n",
    "print(Fore.RED +\"   ~~~~~~~~~~~~~~~~~~~~~~~~~~~~~~~~~~~~~~~~~~~~~~~~~~~~~~~~~~~~~~~~~\\n\")\n",
    "\n",
    "# print user questions\n",
    "print(Fore.WHITE +\"   How long will your retirement nest egg last?\\n   How much could your investments grow?\\n   Answer a few questions to see a long-term projection.\\n   Then try making a few changes to view the impact on your results.\\n\\n\")\n",
    "\n",
    "# print input legend for user\n",
    "print(\"      How are your savings allocated?\\n\")\n",
    "print(\"      Stocks = S&P 500\")\n",
    "print(\"      Bonds = 10 year Treasury Bond\")\n",
    "print(\"      60/40 = 60% S&P 500 / 40% Treasury Bond\")\n",
    "print(\"      SB Blend = 50% S&P 500 / 50% Treasury Bond\")\n",
    "print(\"      SBC Blend = 40% S&P 500 / 50% Treasury Bond / 10% Cash\")\n",
    "print(Fore.GREEN +\"      Crypto =  F U T U R E   F U N C T I O N A L I T Y\")\n",
    "print(Fore.GREEN +\"      Custom =  F U T U R E   F U N C T I O N A L I T Y\\n\")\n",
    "print(Fore.WHITE +\"      Press ENTER to accept default value shown in [brackets]. \\n\")\n"
   ]
  },
  {
   "cell_type": "code",
   "execution_count": 7,
   "id": "5bd139b6-ec76-4830-8103-62be5bfadec2",
   "metadata": {},
   "outputs": [
    {
     "name": "stdin",
     "output_type": "stream",
     "text": [
      "Enter investment type: (stocks, bonds, 60/40, sb, sbc): \n",
      " [60/40]:  \n",
      "Input starting value of investments: \n",
      " [1000000]:  \n",
      "How much do you spend each year? (in today's $): \n",
      " [60000]:  \n",
      "Input minimum years in retirement: \n",
      " [18]:  \n",
      "Input most-likely years in retirement: \n",
      " [25]:  \n",
      "Input maximum years in retirement: \n",
      " [40]:  \n",
      "Input number of Monte Carlo Simulations (MCS) to run: \n",
      " [50000]:  \n"
     ]
    }
   ],
   "source": [
    "# get user input\n",
    "invest_type = def_input(\"Enter investment type: (stocks, bonds, 60/40, sb,\"\\\n",
    "                     \" sbc): \\n\", '60/40').lower()\n",
    "\n",
    "while invest_type not in investment_type:\n",
    "    invest_type = input(\"Invalid investment. Enter investment type \" \\\n",
    "                    \"as listed in prompt: \")\n",
    "\n",
    "start_value = def_input(\"Input starting value of investments: \\n\", \\\n",
    "                             '1000000')\n",
    "while not start_value.isdigit():\n",
    "    start_value = input(\"Invalid input! Input whole numbers only: \")\n",
    "\n",
    "withdrawal = def_input(\"How much do you spend each year?\" \\\n",
    "                            \" (in today's $): \\n\", '60000')\n",
    "while not withdrawal.isdigit():\n",
    "    withdrawal = input(\"Invalid input! Input whole numbers only: \")\n",
    "\n",
    "min_years = def_input(\"Input minimum years in retirement: \\n\", '18')\n",
    "while not min_years.isdigit():\n",
    "    min_years = input(\"Invalid input! Input whole numbers only: \")\n",
    "\n",
    "most_likely_years = def_input(\"Input most-likely years in retirement: \\n\",\n",
    "                                  '25')\n",
    "while not most_likely_years.isdigit():\n",
    "    most_likely_years = input(\"Invalid input! Input whole numbers only: \")\n",
    "\n",
    "max_years = def_input(\"Input maximum years in retirement: \\n\", '40')\n",
    "while not max_years.isdigit():\n",
    "    max_years = input(\"Invalid input! Input whole numbers only: \")\n",
    "    \n",
    "num_cases = def_input(\"Input number of Monte Carlo Simulations (MCS) to run: \\n\", '50000')\n",
    "while not num_cases.isdigit():\n",
    "    num_cases = input(\"Invalid input! Input whole numbers only: \")\n",
    "\n",
    "# check for input errors\n",
    "if not int(min_years) < int(most_likely_years) < int(max_years) \\\n",
    "   or int(max_years) > 100:\n",
    "    print(\"\\nATTENTION: The input years that you entered are not valid.\", file=sys.stderr)\n",
    "    print(\"\\nTIP: Min years need to be less than Most Likey years and less than your Max years.\\nAlso, Max years cannot exceed 100. Please Try again!\\n \\n\", file=sys.stderr)\n",
    "    sys.exit(1)"
   ]
  },
  {
   "cell_type": "code",
   "execution_count": 8,
   "id": "539a00b3-05b3-4151-8cb5-e939938d996b",
   "metadata": {},
   "outputs": [],
   "source": [
    "# Run MCS and return investment value at end-of-plan and bankrupt count.\n",
    "def montecarlo(returns):\n",
    "    case_count = 0\n",
    "    bankrupt_count = 0\n",
    "    outcome = []\n",
    "\n",
    "    while case_count < int(num_cases):\n",
    "        investments = int(start_value)\n",
    "        start_year = random.randrange(0, len(returns))        \n",
    "        duration = int(random.triangular(int(min_years), int(max_years),\n",
    "                                         int(most_likely_years)))       \n",
    "        end_year = start_year + duration \n",
    "        lifespan = [i for i in range(start_year, end_year)]\n",
    "        bankrupt = 'no'\n",
    "\n",
    "        # build temporary lists for each case\n",
    "        lifespan_returns = []\n",
    "        lifespan_infl = []\n",
    "        for i in lifespan:\n",
    "            lifespan_returns.append(returns[i % len(returns)])\n",
    "            lifespan_infl.append(infl_rate[i % len(infl_rate)])\n",
    "            \n",
    "        # loop through each year of retirement for each sim run\n",
    "        for index, i in enumerate(lifespan_returns):\n",
    "            infl = lifespan_infl[index]\n",
    "\n",
    "            # do not adjust for inflation the first year\n",
    "            if index == 0:\n",
    "                withdraw_infl_adj = int(withdrawal)\n",
    "            else:\n",
    "                withdraw_infl_adj = int(withdraw_infl_adj * (1+infl))\n",
    "\n",
    "            investments -= withdraw_infl_adj\n",
    "            investments = int(investments * (1 + i))\n",
    "\n",
    "            if investments <= 0:\n",
    "                bankrupt = 'yes'\n",
    "                break\n",
    "\n",
    "        if bankrupt == 'yes':\n",
    "            outcome.append(0)\n",
    "            bankrupt_count += 1\n",
    "        else:\n",
    "            outcome.append(investments)\n",
    "            \n",
    "        case_count += 1\n",
    "\n",
    "    return outcome, bankrupt_count\n"
   ]
  },
  {
   "cell_type": "code",
   "execution_count": 9,
   "id": "6b9d705e-7aa6-4c35-88c7-6f521e1b9d31",
   "metadata": {},
   "outputs": [],
   "source": [
    "# Calculate and determine the chance of running out of money along with other stats.\n",
    "def bankrupt_prob(outcome, bankrupt_count):\n",
    "    total = len(outcome)\n",
    "    odds = round(100 * bankrupt_count / total, 1)\n",
    "\n",
    "    print(\"\\nInvestment type: {}\".format(invest_type))\n",
    "    print(\"Starting value: ${:,}\".format(int(start_value)))\n",
    "    print(\"Annual withdrawal: ${:,}\".format(int(withdrawal)))\n",
    "    print(\"Years in retirement (min - most likey - max): {}-{}-{}\"\n",
    "          .format(min_years, most_likely_years, max_years))\n",
    "    print(\"Number of MCS runs: {:,}\\n\".format(len(outcome)))\n",
    "    print(Fore.RED + \"Likelihood of you outliving your money: {}%\\n\".format(odds))\n",
    "    print(Fore.WHITE + \"Average outcome: ${:,}\".format(int(sum(outcome) / total)))\n",
    "    print(\"Minimum outcome: ${:,}\".format(min(i for i in outcome)))\n",
    "    print(\"Maximum outcome: ${:,}\".format(max(i for i in outcome)))\n",
    "    print(Fore.CYAN +\"\\nThis retirement simulation was provided to you by:\\nHunter, Thomas, Jeff and Ray, aka 'The PHX Mafia'\\n\\n\")\n",
    "    return odds"
   ]
  },
  {
   "cell_type": "code",
   "execution_count": 10,
   "id": "77e4a508-cdc1-45ea-bb1a-857c8a86793b",
   "metadata": {},
   "outputs": [
    {
     "name": "stdout",
     "output_type": "stream",
     "text": [
      "\n",
      "Investment type: 60/40\n",
      "Starting value: $1,000,000\n",
      "Annual withdrawal: $60,000\n",
      "Years in retirement (min - most likey - max): 18-25-40\n",
      "Number of MCS runs: 50,000\n",
      "\n",
      "\u001b[31mOdds of running out of money: 34.5%\n",
      "\n",
      "\u001b[37mAverage outcome: $1,469,500\n",
      "Minimum outcome: $0\n",
      "Maximum outcome: $19,406,008\n",
      "\u001b[36m\n",
      "This retirement simulation was provided to you by:\n",
      "Hunter, Thomas, Jeff and Ray, aka 'The PHX Mafia'\n",
      "\n",
      "\n"
     ]
    },
    {
     "data": {
      "image/png": "[encoded data removed]",
      "text/plain": [
       "<Figure size 1368x648 with 1 Axes>"
      ]
     },
     "metadata": {
      "needs_background": "light"
     },
     "output_type": "display_data"
    }
   ],
   "source": [
    "# Call MCS & bankrupt functions and plot bar chart of MCS sim results. Generate matplotlib bar chart plot first 5000 runs \n",
    "def main():    \n",
    "    outcome, bankrupt_count = montecarlo(investment_type[invest_type])\n",
    "    odds = bankrupt_prob(outcome, bankrupt_count)  \n",
    "    plotdata = outcome[:5000]\n",
    "    plt.figure('This retirement simulation was provided to you by, Hunter, Thomas, Jeff and Ray (showing first {} MCS runs)'.format(len(plotdata)),figsize=(19, 9))\n",
    "    index = [i + 1 for i in range(len(plotdata))]\n",
    "    plt.bar(index, plotdata, color='blue')\n",
    "    plt.xlabel('Simulated Number of Lives', fontsize=22)\n",
    "    plt.ylabel('Funds Remaining',color='darkgreen', fontsize=22)\n",
    "    plt.ticklabel_format(style='scientific', axis='y')\n",
    "    ax = plt.gca()\n",
    "    ax.get_yaxis().set_major_formatter(plt.FuncFormatter(lambda x, loc: \"{:,}\"\n",
    "                                                         .format(int(x))))\n",
    "    plt.title('Monte Carlo Simulation\\n\\nProbability that you run out of money during retirement is {}%'.format(odds),fontsize=23, color='red')\n",
    "    plt.show()\n",
    "\n",
    "# run the simulation program\n",
    "if __name__ == '__main__':\n",
    "    main()"
   ]
  },
  {
   "cell_type": "code",
   "execution_count": null,
   "id": "2bfb459d-02ed-41ca-bb08-ca59a5edcf30",
   "metadata": {},
   "outputs": [],
   "source": []
  },
  {
   "cell_type": "code",
   "execution_count": null,
   "id": "4de49256-8c2b-467f-9f3a-d4645956414d",
   "metadata": {},
   "outputs": [],
   "source": []
  }
 ],
 "metadata": {
  "kernelspec": {
   "display_name": "Python 3 (ipykernel)",
   "language": "python",
   "name": "python3"
  },
  "language_info": {
   "codemirror_mode": {
    "name": "ipython",
    "version": 3
   },
   "file_extension": ".py",
   "mimetype": "text/x-python",
   "name": "python",
   "nbconvert_exporter": "python",
   "pygments_lexer": "ipython3",
   "version": "3.7.13"
  }
 },
 "nbformat": 4,
 "nbformat_minor": 5
}
